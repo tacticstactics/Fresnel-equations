{
 "cells": [
  {
   "cell_type": "code",
   "execution_count": null,
   "id": "108c75c0",
   "metadata": {},
   "outputs": [],
   "source": [
    "import numpy as np\n",
    "import matplotlib.pyplot as plt\n",
    "import Fresnel_Reflection_def\n",
    "\n",
    "if __name__ == '__main__':\n",
    "    param = 0.001\n",
    "    m = 512\n",
    "\n",
    "theta1col, theta2col, rscol, tscol, rpcol, tpcol, PRscol, PTscol, PRpcol, PTpcol = Fresnel_Reflection_atg_def.proc1(param,m)\n",
    "\n",
    "print('')\n",
    "print('Fresnel_Reflection_main.py')\n",
    "print('')\n",
    "\n",
    "fig = plt.figure(figsize = (10,6), facecolor='lightblue')\n",
    "\n",
    "\n",
    "ax1 = fig.add_subplot(2, 2, 1)\n",
    "ax2 = fig.add_subplot(2, 2, 2, sharey=ax1)\n",
    "ax3 = fig.add_subplot(2, 2, 3)\n",
    "ax4 = fig.add_subplot(2, 2, 4, sharey=ax3)\n",
    "\n",
    "ax1.plot(theta1col,PRscol,theta1col,PRpcol)\n",
    "ax1.set_ylabel(\"Power Amplitude of Reflected light\")\n",
    "ax1.set_ylim(0,1)\n",
    "ax1.grid()\n",
    "\n",
    "ax2.plot(theta1col,PTscol,theta1col,PTpcol)\n",
    "ax2.set_ylabel(\"Power Amplitude of Transmitted light\")\n",
    "ax2.set_ylim(0,1)\n",
    "ax2.grid()\n",
    "\n",
    "ax3.plot(theta1col,rscol,theta1col,rpcol)\n",
    "ax3.set_xlabel(\"Angle of Incidence\")\n",
    "ax3.set_ylabel(\"Phase of reflected light\")\n",
    "ax3.grid()\n",
    "\n",
    "ax4.plot(theta1col,tscol,theta1col,tpcol)\n",
    "ax4.set_xlabel(\"Angle of Incidence\")\n",
    "ax4.set_ylabel(\"Phase of transmittd light\")\n",
    "ax4.grid()\n",
    "\n",
    "plt.show()"
   ]
  },
  {
   "cell_type": "code",
   "execution_count": null,
   "id": "1f55eeae",
   "metadata": {},
   "outputs": [],
   "source": []
  }
 ],
 "metadata": {
  "kernelspec": {
   "display_name": "base",
   "language": "python",
   "name": "python3"
  },
  "language_info": {
   "codemirror_mode": {
    "name": "ipython",
    "version": 3
   },
   "file_extension": ".py",
   "mimetype": "text/x-python",
   "name": "python",
   "nbconvert_exporter": "python",
   "pygments_lexer": "ipython3",
   "version": "3.12.4"
  },
  "vscode": {
   "interpreter": {
    "hash": "89d192729171122375299e140368c0fcb749fa9d23cfe027a0c049e294e33c61"
   }
  }
 },
 "nbformat": 4,
 "nbformat_minor": 5
}
