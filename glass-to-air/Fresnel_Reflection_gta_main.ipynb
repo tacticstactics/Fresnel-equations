{
 "cells": [
  {
   "cell_type": "code",
   "execution_count": 1,
   "id": "108c75c0",
   "metadata": {},
   "outputs": [
    {
     "ename": "ValueError",
     "evalue": "math domain error",
     "output_type": "error",
     "traceback": [
      "\u001b[1;31m---------------------------------------------------------------------------\u001b[0m",
      "\u001b[1;31mValueError\u001b[0m                                Traceback (most recent call last)",
      "\u001b[1;32m~\\AppData\\Local\\Temp\\ipykernel_13836\\2452994501.py\u001b[0m in \u001b[0;36m<module>\u001b[1;34m\u001b[0m\n\u001b[0;32m      9\u001b[0m \u001b[0mm\u001b[0m \u001b[1;33m=\u001b[0m \u001b[1;36m512\u001b[0m\u001b[1;33m\u001b[0m\u001b[1;33m\u001b[0m\u001b[0m\n\u001b[0;32m     10\u001b[0m \u001b[1;33m\u001b[0m\u001b[0m\n\u001b[1;32m---> 11\u001b[1;33m \u001b[0mtheta1col\u001b[0m\u001b[1;33m,\u001b[0m \u001b[0mtheta2col\u001b[0m\u001b[1;33m,\u001b[0m \u001b[0mrscol\u001b[0m\u001b[1;33m,\u001b[0m \u001b[0mtscol\u001b[0m\u001b[1;33m,\u001b[0m \u001b[0mrpcol\u001b[0m\u001b[1;33m,\u001b[0m \u001b[0mtpcol\u001b[0m\u001b[1;33m,\u001b[0m \u001b[0mPRscol\u001b[0m\u001b[1;33m,\u001b[0m \u001b[0mPTscol\u001b[0m\u001b[1;33m,\u001b[0m \u001b[0mPRpcol\u001b[0m\u001b[1;33m,\u001b[0m \u001b[0mPTpcol\u001b[0m \u001b[1;33m=\u001b[0m \u001b[0mFresnel_Reflection_gta_def\u001b[0m\u001b[1;33m.\u001b[0m\u001b[0mproc1\u001b[0m\u001b[1;33m(\u001b[0m\u001b[0mparam\u001b[0m\u001b[1;33m,\u001b[0m\u001b[0mm\u001b[0m\u001b[1;33m)\u001b[0m\u001b[1;33m\u001b[0m\u001b[1;33m\u001b[0m\u001b[0m\n\u001b[0m\u001b[0;32m     12\u001b[0m \u001b[1;33m\u001b[0m\u001b[0m\n\u001b[0;32m     13\u001b[0m \u001b[0mprint\u001b[0m\u001b[1;33m(\u001b[0m\u001b[1;34m''\u001b[0m\u001b[1;33m)\u001b[0m\u001b[1;33m\u001b[0m\u001b[1;33m\u001b[0m\u001b[0m\n",
      "\u001b[1;32mc:\\Users\\swako\\source\\repos\\tacticstactics\\Fresnel-equations\\glass-to-air\\Fresnel_Reflection_gta_def.py\u001b[0m in \u001b[0;36mproc1\u001b[1;34m(param, m)\u001b[0m\n\u001b[0;32m     45\u001b[0m \u001b[1;33m\u001b[0m\u001b[0m\n\u001b[0;32m     46\u001b[0m \u001b[1;33m\u001b[0m\u001b[0m\n\u001b[1;32m---> 47\u001b[1;33m         \u001b[0mtheta2\u001b[0m \u001b[1;33m=\u001b[0m \u001b[0mmath\u001b[0m\u001b[1;33m.\u001b[0m\u001b[0masin\u001b[0m\u001b[1;33m(\u001b[0m\u001b[1;33m(\u001b[0m\u001b[0mn1\u001b[0m\u001b[1;33m/\u001b[0m\u001b[0mn2\u001b[0m\u001b[1;33m)\u001b[0m\u001b[1;33m*\u001b[0m\u001b[0mmath\u001b[0m\u001b[1;33m.\u001b[0m\u001b[0msin\u001b[0m\u001b[1;33m(\u001b[0m\u001b[0mmath\u001b[0m\u001b[1;33m.\u001b[0m\u001b[0mpi\u001b[0m\u001b[1;33m*\u001b[0m\u001b[0mtheta1\u001b[0m\u001b[1;33m/\u001b[0m\u001b[1;36m180\u001b[0m\u001b[1;33m)\u001b[0m\u001b[1;33m)\u001b[0m\u001b[1;33m*\u001b[0m\u001b[1;33m(\u001b[0m\u001b[1;36m180\u001b[0m\u001b[1;33m/\u001b[0m\u001b[0mmath\u001b[0m\u001b[1;33m.\u001b[0m\u001b[0mpi\u001b[0m\u001b[1;33m)\u001b[0m\u001b[1;33m\u001b[0m\u001b[1;33m\u001b[0m\u001b[0m\n\u001b[0m\u001b[0;32m     48\u001b[0m         \u001b[0mtheta2col\u001b[0m\u001b[1;33m[\u001b[0m\u001b[1;33m(\u001b[0m\u001b[0mii\u001b[0m\u001b[1;33m)\u001b[0m\u001b[1;33m]\u001b[0m \u001b[1;33m=\u001b[0m \u001b[0mtheta2\u001b[0m\u001b[1;33m\u001b[0m\u001b[1;33m\u001b[0m\u001b[0m\n\u001b[0;32m     49\u001b[0m \u001b[1;33m\u001b[0m\u001b[0m\n",
      "\u001b[1;31mValueError\u001b[0m: math domain error"
     ]
    }
   ],
   "source": [
    "\n",
    "#Fresnel_Reflection_main.py\n",
    "\n",
    "import numpy as np\n",
    "import matplotlib.pyplot as plt\n",
    "\n",
    "import Fresnel_Reflection_gta_def\n",
    "\n",
    "param = 0.001\n",
    "m = 512\n",
    "\n",
    "theta1col, theta2col, rscol, tscol, rpcol, tpcol, PRscol, PTscol, PRpcol, PTpcol = Fresnel_Reflection_gta_def.proc1(param,m)\n",
    "\n",
    "print('')\n",
    "print('Fresnel_Reflection_main.py')\n",
    "print('')\n",
    "\n",
    "fig = plt.figure(figsize = (10,6), facecolor='lightblue')\n",
    "\n",
    "\n",
    "ax1 = fig.add_subplot(2, 2, 1)\n",
    "ax2 = fig.add_subplot(2, 2, 2, sharey=ax1)\n",
    "ax3 = fig.add_subplot(2, 2, 3)\n",
    "ax4 = fig.add_subplot(2, 2, 4, sharey=ax3)\n",
    "\n",
    "ax1.plot(theta1col,PRscol,theta1col,PRpcol)\n",
    "ax1.set_ylabel(\"Power Amplitude of Reflected light\")\n",
    "ax1.set_ylim(0,1)\n",
    "ax1.grid()\n",
    "\n",
    "ax2.plot(theta1col,PTscol,theta1col,PTpcol)\n",
    "ax2.set_ylabel(\"Power Amplitude of Transmitted light\")\n",
    "ax2.set_ylim(0,1)\n",
    "ax2.grid()\n",
    "\n",
    "ax3.plot(theta1col,rscol,theta1col,rpcol)\n",
    "ax3.set_xlabel(\"Angle of Incidence\")\n",
    "ax3.set_ylabel(\"Phase of reflected light\")\n",
    "ax3.grid()\n",
    "\n",
    "ax4.plot(theta1col,tscol,theta1col,tpcol)\n",
    "ax4.set_xlabel(\"Angle of Incidence\")\n",
    "ax4.set_ylabel(\"Phase of transmittd light\")\n",
    "ax4.grid()\n",
    "\n",
    "plt.show()\n",
    "\n"
   ]
  },
  {
   "cell_type": "code",
   "execution_count": null,
   "id": "1f55eeae",
   "metadata": {},
   "outputs": [],
   "source": []
  }
 ],
 "metadata": {
  "kernelspec": {
   "display_name": "base",
   "language": "python",
   "name": "python3"
  },
  "language_info": {
   "codemirror_mode": {
    "name": "ipython",
    "version": 3
   },
   "file_extension": ".py",
   "mimetype": "text/x-python",
   "name": "python",
   "nbconvert_exporter": "python",
   "pygments_lexer": "ipython3",
   "version": "3.9.13"
  },
  "vscode": {
   "interpreter": {
    "hash": "89d192729171122375299e140368c0fcb749fa9d23cfe027a0c049e294e33c61"
   }
  }
 },
 "nbformat": 4,
 "nbformat_minor": 5
}
